{
 "cells": [
  {
   "cell_type": "markdown",
   "metadata": {},
   "source": [
    "# Final Project\n",
    "by Malte Jörg"
   ]
  },
  {
   "cell_type": "markdown",
   "metadata": {},
   "source": [
    "---\n",
    "## 1. Bussiness Problem\n",
    "\n",
    "In this project I will analyze and compare the two major boroughs of the cities of Toronto and New York in terms of their venue diversity. \n",
    "\n",
    "Toronto is Canada’s largest city and a world leader in such areas as business, finance, technology, entertainment and culture. Its large population of immigrants from all over the globe has also made Toronto one of the most multicultural cities in the world.\n",
    "\n",
    "New York is also the largest city in its country, the U.S., and an architectural marvel with plenty of historic monuments, magnificent buildings and countless dazzling skyscrapers. The city is home to numerous museums, parks, trendy neighborhoods and shopping streets. As an addition to that New York is a financial powerhouse with the largest stock exchange in the world.\n",
    "\n",
    "Both cities are located in North America as well as in the western parts of their country. Their description, location and history sound very similar, but the question is if that is true. Venues are the heart of a city and are can describe the livability when it comes to data. Therefore it can be used to describe differences in two cities, especially the city center, here called the major boroughs of a city. The goal of this project is to detect differences in the main centres of these two cities. The insights of this analysis can help to determine cultural differences between the population of the cities as well as give tourists or people, who want to move to these cities, further information."
   ]
  },
  {
   "cell_type": "markdown",
   "metadata": {},
   "source": [
    "---\n",
    "## 2. Data description\n",
    "\n",
    "The data used in this project is gathered from multiple sources and is used differently to accomplish the above mentioned goal.\n",
    "\n",
    "### Location Data\n",
    "The location data is the basis of the exploration of venues in the two cities. Each Borough in a city consists of multiple neighborhoods of which all should have a geographical location in form of a latitude and longitude value. There can be further information of the neighborhoods like the postal code which can also be set into relation to a geographical location in the city. For example the city of New York has the borough *Manhattan* which consist of multiple neighborhoods, postal codes, which can be set into relation to a geographical position. These positions are spread out all over the borough and are supposed to cover the whole area as good as possible.\n",
    "\n",
    "### Venue Data\n",
    "Venue data is gathered via the Foursquare API. Each venue consists of a name, adress, location data, category and rating as well as possible photos. In terms of the location, the venue can be set into relation to a borough or neighborhood in its city. The relation to the data is created by exploring a specific location in the city with a defined radius where multiple venues can be assigned to. Through this relationship there can be made a direct link between the borough name and its consisting venue categories. For example in a neighborhood in 'Manhatten' with the location x/y, there is 'Bobby's Pizza' inside a 500 meter radius. 'Bobby's Pizza' is in 'Random Street 123' and categorized as a 'Italian Restraunt' with the location i/o.\n",
    "\n",
    "### Venue Category Data\n",
    "Foursquare privides a list of venue categories which consist of main categories and sub-categories. This list can be split into a dataset which contains a specific relation between all sub-categories to a main category. For example an 'Italian Restraunt' and a 'Chinese Restraunt' both can be set into the main category 'Food'."
   ]
  }
 ],
 "metadata": {
  "language_info": {
   "codemirror_mode": {
    "name": "ipython",
    "version": 3
   },
   "file_extension": ".py",
   "mimetype": "text/x-python",
   "name": "python",
   "nbconvert_exporter": "python",
   "pygments_lexer": "ipython3",
   "version": 3
  },
  "orig_nbformat": 2
 },
 "nbformat": 4,
 "nbformat_minor": 2
}