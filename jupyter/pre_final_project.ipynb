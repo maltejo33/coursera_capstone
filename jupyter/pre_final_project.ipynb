{
 "cells": [
  {
   "cell_type": "markdown",
   "metadata": {},
   "source": [
    "# Final Project\n",
    "by Malte Jörg"
   ]
  },
  {
   "cell_type": "markdown",
   "metadata": {},
   "source": [
    "---\n",
    "## 1. Bussiness Problem\n",
    "\n",
    "In this project I will analyze and compare the two major boroughs of the cities of Toronto and New York in terms of their venue diversity. Both cities are located in North America, whereas Toronto is a canadian city and New York conists to the USA. Both cities are financial cities in their contries and located in the western parts of their country. The following analysis and comparison shall determine the differences in the main boroughs of the cities, based on their venue categories. Therefore the boroughs of each city are being analyzed and the main boroughs are being selected. Then the selected boroughs are being compared. As an addition to the analysis and comparison the venues in these boroughs are being clustered.\n",
    "\n",
    "The goal of this project is to detect differences in the main centres of these cities and to help tourist or maybe people, who are moving to one of these cities, to determine the right area to go or to move to."
   ]
  },
  {
   "cell_type": "markdown",
   "metadata": {},
   "source": [
    "---\n",
    "## 2. Data description\n",
    "\n",
    "The data of the Neighborhoods in New York and Toronto are gathered via a Wikipedia page and a Dataset which was provided by the Coursera course. These datasets consist of the borough and neighborhood names as well as the geographical coordinates of the neighborhoods. With this information venues in a radius of 500 meters around each neighborhood are explored via the Foursquare API. The venues are saved in a separate dataset in relation to their borough. Multiple venues in one borough are dropped from the set. To get a better understanding of the diversity of the venue categories, the categories are merged into main categories.\n",
    "\n",
    "The datasets are then ready for analysis and comparison explained above."
   ]
  },
  {
   "cell_type": "code",
   "execution_count": null,
   "metadata": {},
   "outputs": [],
   "source": []
  }
 ],
 "metadata": {
  "language_info": {
   "codemirror_mode": {
    "name": "ipython",
    "version": 3
   },
   "file_extension": ".py",
   "mimetype": "text/x-python",
   "name": "python",
   "nbconvert_exporter": "python",
   "pygments_lexer": "ipython3",
   "version": 3
  },
  "orig_nbformat": 2
 },
 "nbformat": 4,
 "nbformat_minor": 2
}