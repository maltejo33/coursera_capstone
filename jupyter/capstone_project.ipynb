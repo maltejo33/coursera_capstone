{
  "cells": [
    {
      "metadata": {},
      "cell_type": "markdown",
      "source": "# Coursera Capstone Project"
    },
    {
      "metadata": {},
      "cell_type": "markdown",
      "source": "### by Malte Jörg"
    },
    {
      "metadata": {},
      "cell_type": "markdown",
      "source": "This Jupyter Notebook will be mainly used for the IBM Applied Data Science Capstone Project! "
    },
    {
      "metadata": {
        "trusted": true
      },
      "cell_type": "code",
      "source": "import pandas as pd\nimport numpy as np",
      "execution_count": 2,
      "outputs": []
    },
    {
      "metadata": {
        "trusted": true
      },
      "cell_type": "code",
      "source": "print('Hello Capstone Project Course!')",
      "execution_count": 3,
      "outputs": [
        {
          "output_type": "stream",
          "text": "Hello Capstone Project Course!\n",
          "name": "stdout"
        }
      ]
    },
    {
      "metadata": {
        "trusted": true
      },
      "cell_type": "code",
      "source": "",
      "execution_count": null,
      "outputs": []
    }
  ],
  "metadata": {
    "kernelspec": {
      "name": "python36",
      "display_name": "Python 3.6",
      "language": "python"
    },
    "language_info": {
      "mimetype": "text/x-python",
      "nbconvert_exporter": "python",
      "name": "python",
      "pygments_lexer": "ipython3",
      "version": "3.6.6",
      "file_extension": ".py",
      "codemirror_mode": {
        "version": 3,
        "name": "ipython"
      }
    }
  },
  "nbformat": 4,
  "nbformat_minor": 1
}