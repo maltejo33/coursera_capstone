{
  "cells": [
    {
      "metadata": {},
      "cell_type": "markdown",
      "source": [
        "# Coursera Capstone Project"
      ]
    },
    {
      "metadata": {},
      "cell_type": "markdown",
      "source": [
        "### by Malte Jörg"
      ]
    },
    {
      "metadata": {},
      "cell_type": "markdown",
      "source": [
        "This Jupyter Notebook will be mainly used for the IBM Applied Data Science Capstone Project! "
      ]
    },
    {
      "metadata": {
        "trusted": true
      },
      "cell_type": "code",
      "source": [
        "import pandas as pd\n",
        "import numpy as np"
      ],
      "execution_count": 3,
      "outputs": []
    },
    {
      "metadata": {
        "trusted": true
      },
      "cell_type": "code",
      "source": [
        "print('Hello Capstone Project Course!')"
      ],
      "execution_count": 4,
      "outputs": [
        {
          "output_type": "stream",
          "name": "stdout",
          "text": "Hello Capstone Project Course!\n"
        }
      ]
    }
  ],
  "metadata": {
    "kernelspec": {
      "name": "python37764bit12dcdcbc9fc845228027e38f770bd047",
      "display_name": "Python 3.7.7 64-bit",
      "language": "python"
    },
    "language_info": {
      "mimetype": "text/x-python",
      "nbconvert_exporter": "python",
      "name": "python",
      "pygments_lexer": "ipython3",
      "version": "3.7.7-final",
      "file_extension": ".py",
      "codemirror_mode": {
        "version": 3,
        "name": "ipython"
      }
    }
  },
  "nbformat": 4,
  "nbformat_minor": 1
}