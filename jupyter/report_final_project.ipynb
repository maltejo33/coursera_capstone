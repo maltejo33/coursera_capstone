{
 "cells": [
  {
   "cell_type": "markdown",
   "metadata": {},
   "source": [
    "# Final Project\n",
    "by Malte Jörg"
   ]
  },
  {
   "cell_type": "markdown",
   "metadata": {},
   "source": [
    "---\n",
    "## 1. Bussiness Problem\n",
    "\n",
    "In this project I will analyze and compare the two major boroughs of the cities of Toronto and New York in terms of their venue diversity. \n",
    "\n",
    "Toronto is Canada’s largest city and a world leader in such areas as business, finance, technology, entertainment and culture. Its large population of immigrants from all over the globe has also made Toronto one of the most multicultural cities in the world.\n",
    "\n",
    "New York is also the largest city in its country, the U.S., and an architectural marvel with plenty of historic monuments, magnificent buildings and countless dazzling skyscrapers. The city is home to numerous museums, parks, trendy neighborhoods and shopping streets. As an addition to that New York is a financial powerhouse with the largest stock exchange in the world.\n",
    "\n",
    "Both cities are located in North America as well as in the western parts of their country. Their description, location and history sound very similar, but the question is if that is true. Venues are the heart of a city and are can describe the livability when it comes to data. Therefore it can be used to describe differences in two cities, especially the city center, here called the major boroughs of a city. The goal of this project is to detect differences in the main centres of these two cities. The insights of this analysis can help to determine cultural differences between the population of the cities as well as give tourists or people, who want to move to these cities, further information."
   ]
  },
  {
   "cell_type": "markdown",
   "metadata": {},
   "source": [
    "---\n",
    "## 2. Data description\n",
    "\n",
    "The data used in this project is gathered from multiple sources and is used differently to accomplish the above mentioned goal.\n",
    "\n",
    "### Location Data\n",
    "The location data is the basis of the exploration of venues in the two cities. Each Borough in a city consists of multiple neighborhoods of which all should have a geographical location in form of a latitude and longitude value. There can be further information of the neighborhoods like the postal code which can also be set into relation to a geographical location in the city. For example the city of New York has the borough *Manhattan* which consist of multiple neighborhoods, postal codes, which can be set into relation to a geographical position. These positions are spread out all over the borough and are supposed to cover the whole area as good as possible.\n",
    "\n",
    "### Venue Data\n",
    "Venue data is gathered via the Foursquare API. Each venue consists of a name, adress, location data, category and rating as well as possible photos. In terms of the location, the venue can be set into relation to a borough or neighborhood in its city. The relation to the data is created by exploring a specific location in the city with a defined radius where multiple venues can be assigned to. Through this relationship there can be made a direct link between the borough name and its consisting venue categories. For example in a neighborhood in 'Manhatten' with the location x/y, there is 'Bobby's Pizza' inside a 500 meter radius. 'Bobby's Pizza' is in 'Random Street 123' and categorized as a 'Italian Restraunt' with the location i/o.\n",
    "\n",
    "### Venue Category Data\n",
    "Foursquare privides a list of venue categories which consist of main categories and sub-categories. This list can be split into a dataset which contains a specific relation between all sub-categories to a main category. For example an 'Italian Restraunt' and a 'Chinese Restraunt' both can be set into the main category 'Food'."
   ]
  },
  {
   "cell_type": "markdown",
   "metadata": {},
   "source": [
    "---\n",
    "## 3. Methodology\n",
    "\n",
    "### 3.1 Data Collection and Preprocessing\n",
    "\n",
    "First we obtained the location data of the two cities of New York and Toronto. New Yorks location data is provided by the coursera course and therefore loaded from a .json file. The dataset consists of the features Borough, Neighborhood, Latitude and Longitude. The last two are the geographical locations of the neighborhood, which will be later used to gather surrounding venues. Toronto's Neighborhood and Borough data is scraped from a wikipedia page. The corresponding location data is also provided by coursera and loaded from a .csv file. The data of the two dataframes is matched and joined together so that the features of the dataset are similar to the ones of the New York dataset. The New York dataset consists of 306 locations, whereas the Toronto neighborhood consists of 103 locations to analyze. Locations in the Toronto dataset where dropped, because a Neighborhood name was 'Not assigned'.\n",
    "\n",
    "The venue data was gathered via the Foursquare API. Here we explored venues around a given location with a specific radius. The radius is set to 500 meters and each location which is explored by the API is assigned to the Neighborhood and Borough of the location data in the location datasets gathered above. In a next step, multiple venues inside the same borough are dropped from the dataset to assure that no venue is considered multiple times during futhrer analysis.\n",
    "\n",
    "By exploring the locations of the two cities, we have found 1700 venues in Toronto and 9458 venues in New York (5.56 more than Toronto). This is a huge difference in the amount of venues of the two cities, which is a first fact to consider in the analysis. Toronto has 2.6 million citizens, whereas New York has 8.4 million which is about 3 times more than Toronto (Source: wikipedia.com). Considering this comparison there are defenetly more venues listed in New York than in Toronto. Besides, this difference has no impact in our analysis, if the venue data is big enough to be representative for the city. We will have a look at this during data examination.\n",
    "\n",
    "Venue categories in Foursquare are very specific and diverse, which makes them hard to compare and analyze. Therefore we will get a venue category list from Foursquare with all possible venue categories. The dataset is build like a tree, where the root is the main category consisting of many sub-categories. We put each of these sub-categories in a dataframe and assign their main category to it. In a next step we matched these sub-categories to each of the venue categories to add the actual main category of the venue to the venue dataset.\n",
    "\n",
    "This conlcudes the data collection and preprocessing process of this project. We now have two venue dataset of each of the two cities and two location datasets. Next we will proceed to the data examination step."
   ]
  },
  {
   "cell_type": "markdown",
   "metadata": {},
   "source": [
    "### 3.2 Data Examination\n",
    "\n",
    "In this part of the project we examine the above gathered data to gain first insights. First of all we determine all boroughs of New York and Toronto. In a next step we check the spread of the main venue categories in the cities. Based on the amount of venues in each of the cities Boroughs we select the two top Boroughs. Both selected boroughs will be further examined to make a first analysis."
   ]
  },
  {
   "cell_type": "markdown",
   "metadata": {},
   "source": [
    "---\n",
    "## 4. Results\n",
    "\n",
    "Results"
   ]
  },
  {
   "cell_type": "markdown",
   "metadata": {},
   "source": [
    "---\n",
    "## 5. Discussion\n",
    "\n",
    "The Foursquare data of New york and Toronto and especially the two city centres which were selected for this analysis gives a good first look about the cities culture. Food is the main thing which you can find tons in both of the areas. The specific type of foods shows a more diverse culture in Toronto than in New York which is surprising. New Yorks famous chinatown cannot be seen in the data in contrast to the japanese and sushi area ín Downtown Toronto. Further more there is a vast amount of Italian restraunts and Pizza places in New York. Coffee Shops, a major category in both cities, show that these centres are a working place powerhouse. This was already shown in the buisness understanding section, where both cities are described as their countries financial centres. Sadly there is no other sign than Food and Coffee for this description. This is because Foursquare provides no or less data of regular buisnesses.\n",
    "\n",
    "Manhatten appears to be a more livable city. Parks, gyms and other outdoor activities appear more likely in different areas of the borough. Downtown Toronto is not a place for living rather than to work, nightlife and tourist activities. Still, Manhattan the larger area if you compare the size of the two boroughs. This is a fact which should not be taken out of consideration. Manhatten provides a much larger space for people to live and therefore has a higher demand of venues for local people. Downtown Toronto could on the other hand attract more buisnesses and people who travel into the city. This shows the relative high amount of Travel & Transport in Downtown Toronto compared to Manhatten."
   ]
  },
  {
   "cell_type": "markdown",
   "metadata": {},
   "source": [
    "---\n",
    "## 6. Conclusion\n",
    "\n",
    "Taking everything into consideration Manhatten New York and Downtown Toronto seem to be similar cities when it comes to their venunes. Both boroughs are flooded with food and coffee places as well as venues for nightlife, culture, sport and parks. The analysis showed partly differences in certain areas of the boroughs and the city itself. It should give Tourists or people who want to move to one of those cities a first insight on what to expect in certain areas of these cities. The clustering of the city venues showed a more precise partitioning of the area. The analysis of the clusters in terms of venue categories and main categories showed differences in different part of the cities. Because of the vast amount of food and coffee places this analysis wasn't always easy. The interpretation on the data relied mostly on unique categories in on of the clusters and led to the conclusions made in the analysis above. Because of that, statements about cultural differences between those cities were kept low. The canadian and american culture, especially in english speaking parts of Canada are very similar. Differences could be seen in migrating cultures like italian and asian cultures. The statements are based on the amount of these specific restraunts. Surprisingly an asian area could not been found in New York, which was highly expected due to well known neighborhoods. This fact leads to a point which could be done in an analysis following this project. The question could be how the data shows specific cultural venues and if they could be clustered in specific parts of the city. Maybe there are very diverse areas of the city with a large diversity of venues related to countries or cultures. This will defenetly give more insights about the culture in these two cities as this analysis could provide."
   ]
  }
 ],
 "metadata": {
  "language_info": {
   "codemirror_mode": {
    "name": "ipython",
    "version": 3
   },
   "file_extension": ".py",
   "mimetype": "text/x-python",
   "name": "python",
   "nbconvert_exporter": "python",
   "pygments_lexer": "ipython3",
   "version": 3
  },
  "orig_nbformat": 2
 },
 "nbformat": 4,
 "nbformat_minor": 2
}